{
 "cells": [
  {
   "cell_type": "markdown",
   "metadata": {},
   "source": [
    "### Search-Askメソッド (あるいは Retrieval Augmented Generation) で GPT の回答精度を上げてみる"
   ]
  },
  {
   "cell_type": "code",
   "execution_count": 1,
   "metadata": {},
   "outputs": [],
   "source": [
    "import os\n",
    "import requests\n",
    "import bs4\n",
    "import chromadb\n",
    "from chromadb.utils import embedding_functions\n",
    "import openai\n",
    "import pandas as pd"
   ]
  },
  {
   "cell_type": "markdown",
   "metadata": {},
   "source": [
    "OCI資料活用集のページにある「Autonomous Database 技術FAQ」をスクレイピングして FAQ の質問と回答のセットを作成する (Pandas の Dataframe 形式)"
   ]
  },
  {
   "cell_type": "code",
   "execution_count": 2,
   "metadata": {},
   "outputs": [
    {
     "data": {
      "text/html": [
       "<div>\n",
       "<style scoped>\n",
       "    .dataframe tbody tr th:only-of-type {\n",
       "        vertical-align: middle;\n",
       "    }\n",
       "\n",
       "    .dataframe tbody tr th {\n",
       "        vertical-align: top;\n",
       "    }\n",
       "\n",
       "    .dataframe thead th {\n",
       "        text-align: right;\n",
       "    }\n",
       "</style>\n",
       "<table border=\"1\" class=\"dataframe\">\n",
       "  <thead>\n",
       "    <tr style=\"text-align: right;\">\n",
       "      <th></th>\n",
       "      <th>Q</th>\n",
       "      <th>A</th>\n",
       "    </tr>\n",
       "  </thead>\n",
       "  <tbody>\n",
       "    <tr>\n",
       "      <th>0</th>\n",
       "      <td>Autonomous DatabaseはOracle Databaseとどう違うのでしょうか？</td>\n",
       "      <td>内部的にはOracle Database 19cを使用しています。(2023/8時点)それに...</td>\n",
       "    </tr>\n",
       "    <tr>\n",
       "      <th>1</th>\n",
       "      <td>Autonomous DatabaseではExadataのモデルを選択できますか？</td>\n",
       "      <td>Share型とDedicated型で異なります。Shared型ではモデルを選択することはでき...</td>\n",
       "    </tr>\n",
       "    <tr>\n",
       "      <th>2</th>\n",
       "      <td>Autonomous Database にはタイプがいくつかありますが、どれを選択すれば良い...</td>\n",
       "      <td>ワークロードの特性に応じてご選択いただければと思います。分析目的の利用であれば、Autono...</td>\n",
       "    </tr>\n",
       "    <tr>\n",
       "      <th>3</th>\n",
       "      <td>デプロイメント・タイプとしてSharedとDedicated、Cloud@Customerが...</td>\n",
       "      <td>Sharedは運用を極力シンプルにしたい場合や、コストを最優先に考えた場合に選択されることが...</td>\n",
       "    </tr>\n",
       "    <tr>\n",
       "      <th>4</th>\n",
       "      <td>SharedとDedicatedに機能差はありますか？</td>\n",
       "      <td>こちら&lt;https://docs.oracle.com/en/cloud/paas/auto...</td>\n",
       "    </tr>\n",
       "    <tr>\n",
       "      <th>...</th>\n",
       "      <td>...</td>\n",
       "      <td>...</td>\n",
       "    </tr>\n",
       "    <tr>\n",
       "      <th>84</th>\n",
       "      <td>結果件数が多いクエリはどうすればよい？</td>\n",
       "      <td>「期待した性能が出ないんだけど、なぜ？」という問い合わせにおいて、比較的多いのがこのパターン...</td>\n",
       "    </tr>\n",
       "    <tr>\n",
       "      <th>85</th>\n",
       "      <td>インスタンスのキャッシュをクリアするにはどうしたらよいですか？</td>\n",
       "      <td>検証実施時にデータベースのキャッシュ（Buffer Cache）による性能向上効果を排除して...</td>\n",
       "    </tr>\n",
       "    <tr>\n",
       "      <th>86</th>\n",
       "      <td>パラレルクエリを利用して高速化したいのだが、どう設定すれば良い？？</td>\n",
       "      <td>接続サービスを選択いただきます。接続サービスに関してはこちら&lt;https://oracle-...</td>\n",
       "    </tr>\n",
       "    <tr>\n",
       "      <th>87</th>\n",
       "      <td>INSERT処理を高速化するにはどうしたら良いですか？</td>\n",
       "      <td>接続サービスを選択いただきます。接続サービスの説明に関してはこちら&lt;https://orac...</td>\n",
       "    </tr>\n",
       "    <tr>\n",
       "      <th>88</th>\n",
       "      <td>Autonomous Database Shared型(ADB-S)のタイムアウトの設定は？</td>\n",
       "      <td>ドキュメント&lt;https://docs.oracle.com/cd/E83857_01/pa...</td>\n",
       "    </tr>\n",
       "  </tbody>\n",
       "</table>\n",
       "<p>89 rows × 2 columns</p>\n",
       "</div>"
      ],
      "text/plain": [
       "                                                    Q  \\\n",
       "0     Autonomous DatabaseはOracle Databaseとどう違うのでしょうか？   \n",
       "1           Autonomous DatabaseではExadataのモデルを選択できますか？   \n",
       "2   Autonomous Database にはタイプがいくつかありますが、どれを選択すれば良い...   \n",
       "3   デプロイメント・タイプとしてSharedとDedicated、Cloud@Customerが...   \n",
       "4                         SharedとDedicatedに機能差はありますか？   \n",
       "..                                                ...   \n",
       "84                                結果件数が多いクエリはどうすればよい？   \n",
       "85                    インスタンスのキャッシュをクリアするにはどうしたらよいですか？   \n",
       "86                  パラレルクエリを利用して高速化したいのだが、どう設定すれば良い？？   \n",
       "87                        INSERT処理を高速化するにはどうしたら良いですか？   \n",
       "88     Autonomous Database Shared型(ADB-S)のタイムアウトの設定は？   \n",
       "\n",
       "                                                    A  \n",
       "0   内部的にはOracle Database 19cを使用しています。(2023/8時点)それに...  \n",
       "1   Share型とDedicated型で異なります。Shared型ではモデルを選択することはでき...  \n",
       "2   ワークロードの特性に応じてご選択いただければと思います。分析目的の利用であれば、Autono...  \n",
       "3   Sharedは運用を極力シンプルにしたい場合や、コストを最優先に考えた場合に選択されることが...  \n",
       "4   こちら<https://docs.oracle.com/en/cloud/paas/auto...  \n",
       "..                                                ...  \n",
       "84  「期待した性能が出ないんだけど、なぜ？」という問い合わせにおいて、比較的多いのがこのパターン...  \n",
       "85  検証実施時にデータベースのキャッシュ（Buffer Cache）による性能向上効果を排除して...  \n",
       "86  接続サービスを選択いただきます。接続サービスに関してはこちら<https://oracle-...  \n",
       "87  接続サービスを選択いただきます。接続サービスの説明に関してはこちら<https://orac...  \n",
       "88  ドキュメント<https://docs.oracle.com/cd/E83857_01/pa...  \n",
       "\n",
       "[89 rows x 2 columns]"
      ]
     },
     "execution_count": 2,
     "metadata": {},
     "output_type": "execute_result"
    }
   ],
   "source": [
    "faq_url = \"https://oracle-japan.github.io/ocidocs/faq/services/autonomous/autonomous-database-faq/\"\n",
    "response = requests.get(faq_url)\n",
    "soup = bs4.BeautifulSoup(response.text, 'html.parser')\n",
    "df = pd.DataFrame(columns=['Q', 'A'])\n",
    "for h2 in soup.findAll('h2'):\n",
    "    question = h2.text.strip()\n",
    "    l = []\n",
    "    for n in h2.next_siblings:\n",
    "        if type(n) is bs4.element.Tag:\n",
    "            if n.name == 'h2':\n",
    "                answer = (''.join(l)).replace('\\n', '').strip()\n",
    "                qa = pd.DataFrame({'Q': [question], 'A' : [answer]})\n",
    "                df = pd.concat([df, qa], ignore_index=True)\n",
    "                break\n",
    "            if n.name == 'p':\n",
    "                for d in n.contents:\n",
    "                    if d.name == 'a':\n",
    "                        l.append(f\"{d.text}<{d.get('href')}>\")\n",
    "                    else:    \n",
    "                        l.append(str(d.text))\n",
    "df.to_csv('./adb-faq.csv', index=False)\n",
    "df"
   ]
  },
  {
   "cell_type": "markdown",
   "metadata": {},
   "source": [
    "Embedding モデルを指定して ChromaDB (ベクトルデータベース) のコレクションを作成する"
   ]
  },
  {
   "cell_type": "code",
   "execution_count": 3,
   "metadata": {},
   "outputs": [],
   "source": [
    "# OpenAI embedding\n",
    "openai_ef = embedding_functions.OpenAIEmbeddingFunction(\n",
    "    api_key = os.getenv(\"OPENAI_API_KEY\"),\n",
    "    model_name=\"text-embedding-ada-002\"\n",
    ")\n",
    "\n",
    "# Cohere https://docs.cohere.com/docs/supported-languages\n",
    "cohere_english_ef = embedding_functions.CohereEmbeddingFunction(\n",
    "    api_key = os.getenv(\"COHERE_API_KEY\"),\n",
    "    model_name=\"embed-english-v2.0\"\n",
    ")\n",
    "cohere_multilingual_ef = embedding_functions.CohereEmbeddingFunction(\n",
    "    api_key = os.getenv(\"COHERE_API_KEY\"),\n",
    "    model_name=\"embed-multilingual-v2.0\"\n",
    ")\n",
    "\n",
    "# Chroma default embedding - Sentence Transformers all-MiniLM-L6-v2\n",
    "default_ef = embedding_functions.DefaultEmbeddingFunction()\n",
    "\n",
    "\n",
    "persist_directory=\"./chromadb-faq\" # chromadb データベースファイルを保存するディレクトリ\n",
    "embedding_function=openai_ef # ここでは OpenAI の embedding を使用\n",
    "\n",
    "# faq コレクションの作成\n",
    "client = chromadb.PersistentClient(path=persist_directory)\n",
    "#client.delete_collection(\"faq\")\n",
    "collection = client.get_or_create_collection(name=\"faq\", embedding_function=embedding_function)"
   ]
  },
  {
   "cell_type": "code",
   "execution_count": 4,
   "metadata": {},
   "outputs": [],
   "source": [
    "# FAQのテキストは \"Q:...\\nA:...\" のフォーマットにして embedding する\n",
    "documents = (\"Q: \" + df['Q'] + \"\\nA: \" + df['A']).to_list()\n",
    "\n",
    "# FAQの各テキストに付与する id\n",
    "ids = list(map(lambda x: f\"adb-{x:03d}\", df.index))\n",
    "\n",
    "# FAQの各テキストに付与する メタデータ\n",
    "metadatas = list(map(lambda x: {\"category\" : \"adb\"}, df['Q']))\n",
    "\n",
    "# collection に FAQ を追加 embedding の生成は自動的に行われる\n",
    "#collection.add(documents=documents, metadatas=metadatas, ids=ids)\n",
    "collection.upsert(documents=documents, metadatas=metadatas, ids=ids)"
   ]
  },
  {
   "cell_type": "code",
   "execution_count": 5,
   "metadata": {},
   "outputs": [
    {
     "data": {
      "text/plain": [
       "{'ids': [['adb-028', 'adb-030', 'adb-027', 'adb-029', 'adb-035']],\n",
       " 'distances': [[0.29316132787381893,\n",
       "   0.33005908800307415,\n",
       "   0.3307373417836906,\n",
       "   0.3330326989339843,\n",
       "   0.33692546481586033]],\n",
       " 'metadatas': [[{'category': 'adb'},\n",
       "   {'category': 'adb'},\n",
       "   {'category': 'adb'},\n",
       "   {'category': 'adb'},\n",
       "   {'category': 'adb'}]],\n",
       " 'embeddings': None,\n",
       " 'documents': [['Q: 自動バックアップはどこに取得されるのでしょうか。任意のオブジェクト・ストレージに取得することはできますか？\\nA: オラクル社が管理するオブジェクト・ストレージに取得されます。取得先に任意のオブジェクト・ストレージを指定することはできません。自動バックアップが取得されるオブジェクト・ストレージはユーザがアクセスすることはできず、課金対象外（ユーザーが指定するストレージ容量には含まれません）になります。',\n",
       "   'Q: 自動バックアップからのリストア時間はどれくらいでしょうか？\\nA: データ量、更新量に依存するため変動する可能性はありますが、サービスレベル目標についてはこちら<https://docs.oracle.com/en-us/iaas/autonomous-database-shared/doc/availability-slo.html>を参照ください。',\n",
       "   'Q: バックアップは開始時点でスナップショットが取得されるのでしょうか？その場合、バックアップの完了を待たずともDDL/DML/起動停止等の操作は可能ですか。\\nA: Autonomous Database は、ストレージ装置のスナップショット機能によるバックアップは採用しておらず、RMANを利用して60日ごとにフルバックアップ、週次で累積バックアップ、日次で増分バックアップを取得しております。増分バックアップの間の更新についてはアーカイブ・ログが取得されております。 これらのバックアップとアーカイブ・ログを利用することで、バックアップ保持期間の60日の間であれば任意のタイミングに戻すことが可能です（Point-In-Timeリカバリ）。従いまして、バックアップの断面を気にしていただく必要はありません。 ただし、Autonomous Database のリカバリは秒指定で行うため、断面でのリカバリが必要な場合は、アプリケーション側で静止点を確保し、その時間を指定してリカバリを行ってください。参考マニュアル Autonomous Databaseのバックアップおよびリストア<https://docs.oracle.com/cd/E83857_01/paas/autonomous-database/adbsa/backup-restore.html#GUID-9035DFB8-4702-4CEB-8281-C2A303820809>',\n",
       "   'Q: Autonomous Database Shared型の自動バックアップのタイミングは指定できますか？\\nA: 現時点でタイミングを指定することはできません。なお、取得したバックアップの情報は下記SQLで確認いただくことが可能です。TAG列の先頭の値でバックアップタイプが判断できます。',\n",
       "   'Q: ソースADBがあるリージョンと異なるリージョンのバックアップ（リモート・バックアップ）を取ることは可能ですか？\\nA: ADBの自動バックアップ機能では遠隔地(別リージョン)へバックアップすることはできません。ADBにおけるDR対応は下記の方法がございます。  ・Autonomous Data Guardを使用し、スタンバイDBを構成する  ・バックアップベースのディザスタ・リカバリのクロスリージョン・バックアップ・コピーを構成する  ・別リージョンにクローンを作成する（平時はインスタンスを停止することでOCPUの課金は抑えることが可能です）  ・Data Pumpで Object Storageに論理バックアップを取得し、Object Storageのリージョン・コピー機能で別リージョンに複製する']]}"
      ]
     },
     "execution_count": 5,
     "metadata": {},
     "output_type": "execute_result"
    }
   ],
   "source": [
    "# 検索のテスト\n",
    "query = \"バックアップの方式は？\" \n",
    "results = collection.query(\n",
    "        query_texts = query, \n",
    "        where = {\"category\" : \"adb\"}, \n",
    "        n_results = 5,\n",
    "    )\n",
    "results"
   ]
  },
  {
   "cell_type": "markdown",
   "metadata": {},
   "source": [
    "OpenAI を使って回答する関数を作成する (chat_completion(), chat_completion_with_query())"
   ]
  },
  {
   "cell_type": "code",
   "execution_count": 6,
   "metadata": {},
   "outputs": [],
   "source": [
    "# 学習済の知識を使ってOpenAIが質問内容に回答する\n",
    "def chat_completion(message):\n",
    "    messages = [\n",
    "        {\"role\": \"system\", \"content\": \"Autonomous Database に関する質問に対する回答を行います。\"},\n",
    "        {\"role\": \"user\", \"content\": message},\n",
    "    ]\n",
    "    response = openai.ChatCompletion.create(\n",
    "        model=\"gpt-3.5-turbo\",\n",
    "        messages=messages,\n",
    "        temperature=0\n",
    "    )\n",
    "    return response[\"choices\"][0][\"message\"][\"content\"]\n",
    "\n",
    "# 質問に関連する FAQ 項目を埋め込んだプロンプトを作る\n",
    "def create_message(question, query_results):\n",
    "    examples = []\n",
    "    for n in range(0, len(query_results['documents'][0])):\n",
    "        examples.append(f\"\\n{query_results['documents'][0][n]}\\n\")\n",
    "\n",
    "    message = f\"\"\"\n",
    "以下は Q&A です。\n",
    "---\n",
    "{''.join(examples)}\n",
    "---\n",
    "これまでの知識を使わず与えられた Q&A の情報だけを使って質問に回答して下さい。\n",
    "回答できない場合は、\"情報が不足しているためその質問に回答することができません。\" と回答して下さい。\n",
    "Q: {question}\n",
    "A: \n",
    "\"\"\"\n",
    "    return message\n",
    "\n",
    "# 質問内容に関連するFAQを参照しながらOpenAIが回答する\n",
    "def chat_completion_with_query(question, n_results=5, show_prompt=True):\n",
    "    query_results = collection.query(\n",
    "        query_texts = question, \n",
    "        where = {\"category\" : \"adb\"}, \n",
    "        n_results = n_results,\n",
    "    )\n",
    "    message = create_message(question, query_results)\n",
    "    if show_prompt: print(message)\n",
    "    return chat_completion(message)"
   ]
  },
  {
   "cell_type": "markdown",
   "metadata": {},
   "source": [
    "二つの関数を実行して出力を比較する"
   ]
  },
  {
   "cell_type": "code",
   "execution_count": 7,
   "metadata": {},
   "outputs": [
    {
     "name": "stdout",
     "output_type": "stream",
     "text": [
      "はい、Autonomous Databaseには同時接続数の制限があります。制限は、データベースのエディションによって異なります。\n",
      "\n",
      "Autonomous DatabaseのStandardエディションでは、最大100個の同時接続が許可されます。\n",
      "\n",
      "Autonomous DatabaseのEnterpriseエディションでは、最大200個の同時接続が許可されます。\n",
      "\n",
      "ただし、これらの制限はデータベースのパフォーマンスに影響を与える可能性があるため、適切な接続数を管理することが重要です。\n"
     ]
    }
   ],
   "source": [
    "print(chat_completion(\"接続数の制限はありますか？\"))"
   ]
  },
  {
   "cell_type": "code",
   "execution_count": 8,
   "metadata": {},
   "outputs": [
    {
     "name": "stdout",
     "output_type": "stream",
     "text": [
      "\n",
      "以下は Q&A です。\n",
      "---\n",
      "\n",
      "Q: 一部の重たいクエリによるリソースの大量消費を防ぐ仕組みはありますか？\n",
      "A: Runaway Queryの管理で、SQLの実行時間やIO量の上限を設定することができます。セッションは接続されたまま、上限を超えるクエリは強制キャンセルされます。参考：Runaway Query マニュアル<https://docs.oracle.com/en/cloud/paas/autonomous-database/adbsa/manage-sql-statements.html#GUID-4861BA7F-F9FA-4909-8DC0-4F46AFF80706>ページトップに戻る<#>\n",
      "\n",
      "Q: Autonomous Databaseの同時接続セッション数はいくつでしょうか。また同時接続セッション数を超えて接続しようとした場合はエラーになりますか？\n",
      "A: 同時接続セッション数は1OCPUあたり300セッションです。Autonomous Databaseの初期化パラメータSESSIONSとして設定されます。この値は接続サービスをまたいで有効であり、例えば、OCPU=1のAutonomous Transaction Processingにおいて、TPURGENTで100、TPで200セッションが接続している場合、新たにセッションを作成することはできません。セッション数を超えた場合は 「ORA-00018: 最大セッション数を超えました」というエラーとなり、セッションの作成に失敗します。なお、Autonomous DatabaseはOracle MultitenantのPluggable Databaseであるため、バックグランドプロセスや再帰セッション分のセッション数を考慮する必要はありません。\n",
      "\n",
      "Q: パラレルクエリを利用して高速化したいのだが、どう設定すれば良い？？\n",
      "A: 接続サービスを選択いただきます。接続サービスに関してはこちら<https://oracle-japan.github.io/ocitutorials/database/adb201-service-names/>を参照ください。\n",
      "\n",
      "Q: INSERT処理を高速化するにはどうしたら良いですか？\n",
      "A: 接続サービスを選択いただきます。接続サービスの説明に関してはこちら<https://oracle-japan.github.io/ocitutorials/database/adb201-service-names/>を参照ください。ページトップに戻る<#>\n",
      "\n",
      "Q: ストレージの最大容量はどのように制御されているのでしょうか、また指定できる最大容量はいくつでしょうか？\n",
      "A: 指定した容量に基づいてデータベースのプロパティで設定がされます。設定は以下で確認できます。指定できる最大容量は128TBです。それ以上のサイズが必要な場合は別途お問い合わせください。\n",
      "\n",
      "---\n",
      "これまでの知識を使わず与えられた Q&A の情報だけを使って質問に回答して下さい。\n",
      "回答できない場合は、\"情報が不足しているためその質問に回答することができません。\" と回答して下さい。\n",
      "Q: 接続数の制限はありますか？\n",
      "A: \n",
      "\n",
      "A: Autonomous Databaseの同時接続セッション数は1OCPUあたり300セッションです。セッション数を超えた場合は 「ORA-00018: 最大セッション数を超えました」というエラーとなり、セッションの作成に失敗します。\n"
     ]
    }
   ],
   "source": [
    "print(chat_completion_with_query(\"接続数の制限はありますか？\"))"
   ]
  },
  {
   "cell_type": "markdown",
   "metadata": {},
   "source": [
    "FAQ にない質問をしてみる"
   ]
  },
  {
   "cell_type": "code",
   "execution_count": 9,
   "metadata": {},
   "outputs": [
    {
     "name": "stdout",
     "output_type": "stream",
     "text": [
      "\n",
      "以下は Q&A です。\n",
      "---\n",
      "\n",
      "Q: OCPU、ストレージの課金は時間単位でしょうか？\n",
      "A: 価格表<https://www.oracle.com/jp/cloud/price-list.html#adw>にはストレージはTB/月、CPUはOCPU数/時で記載されていますが、 実際はどちらも秒単位の請求となります。OCPU、ストレージ共に最低1分から秒単位での利用が可能です。\n",
      "\n",
      "Q: 自動バックアップからのリストア時間はどれくらいでしょうか？\n",
      "A: データ量、更新量に依存するため変動する可能性はありますが、サービスレベル目標についてはこちら<https://docs.oracle.com/en-us/iaas/autonomous-database-shared/doc/availability-slo.html>を参照ください。\n",
      "\n",
      "Q: 一時表領域のサイズは決められますか？\n",
      "A: ストレージサイズの30%が最大サイズで自動拡張され、ユーザーは変更不可です。ページトップに戻る<#>\n",
      "\n",
      "Q: ヒントは利用できますか？\n",
      "A: おすすめの検証手順としては、まずはそのままの状態で計測してください。その後、予期した性能が出ない場合に限り、ヒントの効果を確認してください。\n",
      "\n",
      "Q: SYSDATEのタイムゾーンがUTCですが、JSTに変更は可能でしょうか？\n",
      "A: はい、SYSDATE_AT_DBTIMEZONEを使用することで可能です。以下の記事に手順が記載されていますのでご確認ください。[OCI]Autonomous Database：SYSDATE_AT_DBTIMEZONEを使用してsysdateが日本時間を返すようにしてみた<https://qiita.com/500InternalServerError/items/d741a7144de7b35e04ed>ページトップに戻る<#>\n",
      "\n",
      "---\n",
      "これまでの知識を使わず与えられた Q&A の情報だけを使って質問に回答して下さい。\n",
      "回答できない場合は、\"情報が不足しているためその質問に回答することができません。\" と回答して下さい。\n",
      "Q: 地球と月の間の距離は？\n",
      "A: \n",
      "\n"
     ]
    },
    {
     "name": "stdout",
     "output_type": "stream",
     "text": [
      "情報が不足しているためその質問に回答することができません。\n"
     ]
    }
   ],
   "source": [
    "print(chat_completion_with_query(\"地球と月の間の距離は？\"))"
   ]
  }
 ],
 "metadata": {
  "kernelspec": {
   "display_name": "py3.8",
   "language": "python",
   "name": "python3"
  },
  "language_info": {
   "codemirror_mode": {
    "name": "ipython",
    "version": 3
   },
   "file_extension": ".py",
   "mimetype": "text/x-python",
   "name": "python",
   "nbconvert_exporter": "python",
   "pygments_lexer": "ipython3",
   "version": "3.8.16"
  },
  "orig_nbformat": 4
 },
 "nbformat": 4,
 "nbformat_minor": 2
}
